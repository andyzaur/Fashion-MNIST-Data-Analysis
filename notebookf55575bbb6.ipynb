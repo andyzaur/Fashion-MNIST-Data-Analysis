{
 "cells": [
  {
   "cell_type": "code",
   "execution_count": 1,
   "id": "46e869ff",
   "metadata": {
    "_cell_guid": "b1076dfc-b9ad-4769-8c92-a6c4dae69d19",
    "_uuid": "8f2839f25d086af736a60e9eeb907d3b93b6e0e5",
    "execution": {
     "iopub.execute_input": "2024-12-22T02:45:07.439060Z",
     "iopub.status.busy": "2024-12-22T02:45:07.438732Z",
     "iopub.status.idle": "2024-12-22T02:45:09.568889Z",
     "shell.execute_reply": "2024-12-22T02:45:09.567656Z"
    },
    "papermill": {
     "duration": 2.137095,
     "end_time": "2024-12-22T02:45:09.571206",
     "exception": false,
     "start_time": "2024-12-22T02:45:07.434111",
     "status": "completed"
    },
    "tags": []
   },
   "outputs": [],
   "source": [
    "import numpy as np\n",
    "import pandas as pd\n",
    "from sklearn.model_selection import train_test_split\n",
    "from sklearn.preprocessing import StandardScaler\n",
    "from sklearn.svm import SVC\n",
    "from sklearn.metrics import accuracy_score, classification_report, confusion_matrix\n"
   ]
  },
  {
   "cell_type": "code",
   "execution_count": 2,
   "id": "069e6e78",
   "metadata": {
    "execution": {
     "iopub.execute_input": "2024-12-22T02:45:09.580330Z",
     "iopub.status.busy": "2024-12-22T02:45:09.579825Z",
     "iopub.status.idle": "2024-12-22T02:45:14.579580Z",
     "shell.execute_reply": "2024-12-22T02:45:14.577681Z"
    },
    "papermill": {
     "duration": 5.00856,
     "end_time": "2024-12-22T02:45:14.582890",
     "exception": false,
     "start_time": "2024-12-22T02:45:09.574330",
     "status": "completed"
    },
    "tags": []
   },
   "outputs": [],
   "source": [
    "# Load the training dataset\n",
    "train_data = np.load('/kaggle/input/d/andyzaur/tia-2024/train.npz')\n",
    "\n",
    "x_train = train_data['x_train']\n",
    "y_train = train_data['y_train']\n"
   ]
  },
  {
   "cell_type": "code",
   "execution_count": 3,
   "id": "5a7b007a",
   "metadata": {
    "execution": {
     "iopub.execute_input": "2024-12-22T02:45:14.593300Z",
     "iopub.status.busy": "2024-12-22T02:45:14.592776Z",
     "iopub.status.idle": "2024-12-22T02:45:15.482197Z",
     "shell.execute_reply": "2024-12-22T02:45:15.481183Z"
    },
    "papermill": {
     "duration": 0.896914,
     "end_time": "2024-12-22T02:45:15.484138",
     "exception": false,
     "start_time": "2024-12-22T02:45:14.587224",
     "status": "completed"
    },
    "tags": []
   },
   "outputs": [],
   "source": [
    "# Normalize the features\n",
    "scaler = StandardScaler()\n",
    "x_train = scaler.fit_transform(x_train)\n",
    "\n",
    "# Split the training data for validation\n",
    "x_train_split, x_val, y_train_split, y_val = train_test_split(\n",
    "    x_train, y_train, test_size=0.2, random_state=42, stratify=y_train\n",
    ")"
   ]
  },
  {
   "cell_type": "code",
   "execution_count": 4,
   "id": "c420ae50",
   "metadata": {
    "execution": {
     "iopub.execute_input": "2024-12-22T02:45:15.491288Z",
     "iopub.status.busy": "2024-12-22T02:45:15.490901Z",
     "iopub.status.idle": "2024-12-22T02:49:31.225274Z",
     "shell.execute_reply": "2024-12-22T02:49:31.224279Z"
    },
    "papermill": {
     "duration": 255.742441,
     "end_time": "2024-12-22T02:49:31.229631",
     "exception": false,
     "start_time": "2024-12-22T02:45:15.487190",
     "status": "completed"
    },
    "tags": []
   },
   "outputs": [
    {
     "data": {
      "text/html": [
       "<style>#sk-container-id-1 {color: black;background-color: white;}#sk-container-id-1 pre{padding: 0;}#sk-container-id-1 div.sk-toggleable {background-color: white;}#sk-container-id-1 label.sk-toggleable__label {cursor: pointer;display: block;width: 100%;margin-bottom: 0;padding: 0.3em;box-sizing: border-box;text-align: center;}#sk-container-id-1 label.sk-toggleable__label-arrow:before {content: \"▸\";float: left;margin-right: 0.25em;color: #696969;}#sk-container-id-1 label.sk-toggleable__label-arrow:hover:before {color: black;}#sk-container-id-1 div.sk-estimator:hover label.sk-toggleable__label-arrow:before {color: black;}#sk-container-id-1 div.sk-toggleable__content {max-height: 0;max-width: 0;overflow: hidden;text-align: left;background-color: #f0f8ff;}#sk-container-id-1 div.sk-toggleable__content pre {margin: 0.2em;color: black;border-radius: 0.25em;background-color: #f0f8ff;}#sk-container-id-1 input.sk-toggleable__control:checked~div.sk-toggleable__content {max-height: 200px;max-width: 100%;overflow: auto;}#sk-container-id-1 input.sk-toggleable__control:checked~label.sk-toggleable__label-arrow:before {content: \"▾\";}#sk-container-id-1 div.sk-estimator input.sk-toggleable__control:checked~label.sk-toggleable__label {background-color: #d4ebff;}#sk-container-id-1 div.sk-label input.sk-toggleable__control:checked~label.sk-toggleable__label {background-color: #d4ebff;}#sk-container-id-1 input.sk-hidden--visually {border: 0;clip: rect(1px 1px 1px 1px);clip: rect(1px, 1px, 1px, 1px);height: 1px;margin: -1px;overflow: hidden;padding: 0;position: absolute;width: 1px;}#sk-container-id-1 div.sk-estimator {font-family: monospace;background-color: #f0f8ff;border: 1px dotted black;border-radius: 0.25em;box-sizing: border-box;margin-bottom: 0.5em;}#sk-container-id-1 div.sk-estimator:hover {background-color: #d4ebff;}#sk-container-id-1 div.sk-parallel-item::after {content: \"\";width: 100%;border-bottom: 1px solid gray;flex-grow: 1;}#sk-container-id-1 div.sk-label:hover label.sk-toggleable__label {background-color: #d4ebff;}#sk-container-id-1 div.sk-serial::before {content: \"\";position: absolute;border-left: 1px solid gray;box-sizing: border-box;top: 0;bottom: 0;left: 50%;z-index: 0;}#sk-container-id-1 div.sk-serial {display: flex;flex-direction: column;align-items: center;background-color: white;padding-right: 0.2em;padding-left: 0.2em;position: relative;}#sk-container-id-1 div.sk-item {position: relative;z-index: 1;}#sk-container-id-1 div.sk-parallel {display: flex;align-items: stretch;justify-content: center;background-color: white;position: relative;}#sk-container-id-1 div.sk-item::before, #sk-container-id-1 div.sk-parallel-item::before {content: \"\";position: absolute;border-left: 1px solid gray;box-sizing: border-box;top: 0;bottom: 0;left: 50%;z-index: -1;}#sk-container-id-1 div.sk-parallel-item {display: flex;flex-direction: column;z-index: 1;position: relative;background-color: white;}#sk-container-id-1 div.sk-parallel-item:first-child::after {align-self: flex-end;width: 50%;}#sk-container-id-1 div.sk-parallel-item:last-child::after {align-self: flex-start;width: 50%;}#sk-container-id-1 div.sk-parallel-item:only-child::after {width: 0;}#sk-container-id-1 div.sk-dashed-wrapped {border: 1px dashed gray;margin: 0 0.4em 0.5em 0.4em;box-sizing: border-box;padding-bottom: 0.4em;background-color: white;}#sk-container-id-1 div.sk-label label {font-family: monospace;font-weight: bold;display: inline-block;line-height: 1.2em;}#sk-container-id-1 div.sk-label-container {text-align: center;}#sk-container-id-1 div.sk-container {/* jupyter's `normalize.less` sets `[hidden] { display: none; }` but bootstrap.min.css set `[hidden] { display: none !important; }` so we also need the `!important` here to be able to override the default hidden behavior on the sphinx rendered scikit-learn.org. See: https://github.com/scikit-learn/scikit-learn/issues/21755 */display: inline-block !important;position: relative;}#sk-container-id-1 div.sk-text-repr-fallback {display: none;}</style><div id=\"sk-container-id-1\" class=\"sk-top-container\"><div class=\"sk-text-repr-fallback\"><pre>SVC(random_state=42)</pre><b>In a Jupyter environment, please rerun this cell to show the HTML representation or trust the notebook. <br />On GitHub, the HTML representation is unable to render, please try loading this page with nbviewer.org.</b></div><div class=\"sk-container\" hidden><div class=\"sk-item\"><div class=\"sk-estimator sk-toggleable\"><input class=\"sk-toggleable__control sk-hidden--visually\" id=\"sk-estimator-id-1\" type=\"checkbox\" checked><label for=\"sk-estimator-id-1\" class=\"sk-toggleable__label sk-toggleable__label-arrow\">SVC</label><div class=\"sk-toggleable__content\"><pre>SVC(random_state=42)</pre></div></div></div></div></div>"
      ],
      "text/plain": [
       "SVC(random_state=42)"
      ]
     },
     "execution_count": 4,
     "metadata": {},
     "output_type": "execute_result"
    }
   ],
   "source": [
    "# Initialize and train the SVM model with RBF kernel\n",
    "svm_model = SVC(kernel='rbf', C=1.0, gamma='scale', random_state=42)\n",
    "svm_model.fit(x_train_split, y_train_split)\n"
   ]
  },
  {
   "cell_type": "code",
   "execution_count": 5,
   "id": "1767eb6c",
   "metadata": {
    "execution": {
     "iopub.execute_input": "2024-12-22T02:49:31.236735Z",
     "iopub.status.busy": "2024-12-22T02:49:31.236352Z",
     "iopub.status.idle": "2024-12-22T02:52:32.390004Z",
     "shell.execute_reply": "2024-12-22T02:52:32.388914Z"
    },
    "papermill": {
     "duration": 181.162287,
     "end_time": "2024-12-22T02:52:32.394874",
     "exception": false,
     "start_time": "2024-12-22T02:49:31.232587",
     "status": "completed"
    },
    "tags": []
   },
   "outputs": [
    {
     "name": "stdout",
     "output_type": "stream",
     "text": [
      "Validation Accuracy: 0.8942\n"
     ]
    }
   ],
   "source": [
    "# Validate the model\n",
    "y_val_pred = svm_model.predict(x_val)\n",
    "val_accuracy = accuracy_score(y_val, y_val_pred)\n",
    "print(f\"Validation Accuracy: {val_accuracy:.4f}\")"
   ]
  },
  {
   "cell_type": "code",
   "execution_count": 6,
   "id": "71ffed73",
   "metadata": {
    "execution": {
     "iopub.execute_input": "2024-12-22T02:52:32.402129Z",
     "iopub.status.busy": "2024-12-22T02:52:32.401815Z",
     "iopub.status.idle": "2024-12-22T02:52:32.444869Z",
     "shell.execute_reply": "2024-12-22T02:52:32.443665Z"
    },
    "papermill": {
     "duration": 0.048675,
     "end_time": "2024-12-22T02:52:32.446599",
     "exception": false,
     "start_time": "2024-12-22T02:52:32.397924",
     "status": "completed"
    },
    "tags": []
   },
   "outputs": [
    {
     "name": "stdout",
     "output_type": "stream",
     "text": [
      "\n",
      "Classification Report:\n",
      "              precision    recall  f1-score   support\n",
      "\n",
      "           0       0.82      0.88      0.85      1121\n",
      "           1       1.00      0.97      0.98      1120\n",
      "           2       0.81      0.82      0.82      1119\n",
      "           3       0.89      0.91      0.90      1110\n",
      "           4       0.82      0.85      0.83      1128\n",
      "           5       0.97      0.95      0.96      1110\n",
      "           6       0.75      0.67      0.71      1119\n",
      "           7       0.94      0.96      0.95      1128\n",
      "           8       0.97      0.97      0.97      1132\n",
      "           9       0.96      0.96      0.96      1113\n",
      "\n",
      "    accuracy                           0.89     11200\n",
      "   macro avg       0.89      0.89      0.89     11200\n",
      "weighted avg       0.89      0.89      0.89     11200\n",
      "\n",
      "\n",
      "Confusion Matrix:\n",
      "[[ 985    0   15   28    1    1   84    0    7    0]\n",
      " [   3 1087    4   21    2    0    3    0    0    0]\n",
      " [  14    0  917   16  103    1   63    0    5    0]\n",
      " [  32    2    6 1010   29    0   28    0    3    0]\n",
      " [   1    1   82   30  955    0   56    0    3    0]\n",
      " [   1    0    0    1    0 1059    1   31    5   12]\n",
      " [ 156    0   97   24   78    0  752    0   12    0]\n",
      " [   0    0    0    0    0   15    0 1086    2   25]\n",
      " [   5    0    9    4    3    2   11    2 1094    2]\n",
      " [   0    0    0    0    0    9    0   33    1 1070]]\n"
     ]
    }
   ],
   "source": [
    "# Print classification report and confusion matrix\n",
    "print(\"\\nClassification Report:\")\n",
    "print(classification_report(y_val, y_val_pred))\n",
    "\n",
    "print(\"\\nConfusion Matrix:\")\n",
    "print(confusion_matrix(y_val, y_val_pred))"
   ]
  },
  {
   "cell_type": "code",
   "execution_count": 7,
   "id": "f6a84be5",
   "metadata": {
    "execution": {
     "iopub.execute_input": "2024-12-22T02:52:32.454315Z",
     "iopub.status.busy": "2024-12-22T02:52:32.453989Z",
     "iopub.status.idle": "2024-12-22T02:58:50.736936Z",
     "shell.execute_reply": "2024-12-22T02:58:50.735827Z"
    },
    "papermill": {
     "duration": 378.291812,
     "end_time": "2024-12-22T02:58:50.741800",
     "exception": false,
     "start_time": "2024-12-22T02:52:32.449988",
     "status": "completed"
    },
    "tags": []
   },
   "outputs": [
    {
     "data": {
      "text/html": [
       "<style>#sk-container-id-2 {color: black;background-color: white;}#sk-container-id-2 pre{padding: 0;}#sk-container-id-2 div.sk-toggleable {background-color: white;}#sk-container-id-2 label.sk-toggleable__label {cursor: pointer;display: block;width: 100%;margin-bottom: 0;padding: 0.3em;box-sizing: border-box;text-align: center;}#sk-container-id-2 label.sk-toggleable__label-arrow:before {content: \"▸\";float: left;margin-right: 0.25em;color: #696969;}#sk-container-id-2 label.sk-toggleable__label-arrow:hover:before {color: black;}#sk-container-id-2 div.sk-estimator:hover label.sk-toggleable__label-arrow:before {color: black;}#sk-container-id-2 div.sk-toggleable__content {max-height: 0;max-width: 0;overflow: hidden;text-align: left;background-color: #f0f8ff;}#sk-container-id-2 div.sk-toggleable__content pre {margin: 0.2em;color: black;border-radius: 0.25em;background-color: #f0f8ff;}#sk-container-id-2 input.sk-toggleable__control:checked~div.sk-toggleable__content {max-height: 200px;max-width: 100%;overflow: auto;}#sk-container-id-2 input.sk-toggleable__control:checked~label.sk-toggleable__label-arrow:before {content: \"▾\";}#sk-container-id-2 div.sk-estimator input.sk-toggleable__control:checked~label.sk-toggleable__label {background-color: #d4ebff;}#sk-container-id-2 div.sk-label input.sk-toggleable__control:checked~label.sk-toggleable__label {background-color: #d4ebff;}#sk-container-id-2 input.sk-hidden--visually {border: 0;clip: rect(1px 1px 1px 1px);clip: rect(1px, 1px, 1px, 1px);height: 1px;margin: -1px;overflow: hidden;padding: 0;position: absolute;width: 1px;}#sk-container-id-2 div.sk-estimator {font-family: monospace;background-color: #f0f8ff;border: 1px dotted black;border-radius: 0.25em;box-sizing: border-box;margin-bottom: 0.5em;}#sk-container-id-2 div.sk-estimator:hover {background-color: #d4ebff;}#sk-container-id-2 div.sk-parallel-item::after {content: \"\";width: 100%;border-bottom: 1px solid gray;flex-grow: 1;}#sk-container-id-2 div.sk-label:hover label.sk-toggleable__label {background-color: #d4ebff;}#sk-container-id-2 div.sk-serial::before {content: \"\";position: absolute;border-left: 1px solid gray;box-sizing: border-box;top: 0;bottom: 0;left: 50%;z-index: 0;}#sk-container-id-2 div.sk-serial {display: flex;flex-direction: column;align-items: center;background-color: white;padding-right: 0.2em;padding-left: 0.2em;position: relative;}#sk-container-id-2 div.sk-item {position: relative;z-index: 1;}#sk-container-id-2 div.sk-parallel {display: flex;align-items: stretch;justify-content: center;background-color: white;position: relative;}#sk-container-id-2 div.sk-item::before, #sk-container-id-2 div.sk-parallel-item::before {content: \"\";position: absolute;border-left: 1px solid gray;box-sizing: border-box;top: 0;bottom: 0;left: 50%;z-index: -1;}#sk-container-id-2 div.sk-parallel-item {display: flex;flex-direction: column;z-index: 1;position: relative;background-color: white;}#sk-container-id-2 div.sk-parallel-item:first-child::after {align-self: flex-end;width: 50%;}#sk-container-id-2 div.sk-parallel-item:last-child::after {align-self: flex-start;width: 50%;}#sk-container-id-2 div.sk-parallel-item:only-child::after {width: 0;}#sk-container-id-2 div.sk-dashed-wrapped {border: 1px dashed gray;margin: 0 0.4em 0.5em 0.4em;box-sizing: border-box;padding-bottom: 0.4em;background-color: white;}#sk-container-id-2 div.sk-label label {font-family: monospace;font-weight: bold;display: inline-block;line-height: 1.2em;}#sk-container-id-2 div.sk-label-container {text-align: center;}#sk-container-id-2 div.sk-container {/* jupyter's `normalize.less` sets `[hidden] { display: none; }` but bootstrap.min.css set `[hidden] { display: none !important; }` so we also need the `!important` here to be able to override the default hidden behavior on the sphinx rendered scikit-learn.org. See: https://github.com/scikit-learn/scikit-learn/issues/21755 */display: inline-block !important;position: relative;}#sk-container-id-2 div.sk-text-repr-fallback {display: none;}</style><div id=\"sk-container-id-2\" class=\"sk-top-container\"><div class=\"sk-text-repr-fallback\"><pre>SVC(random_state=42)</pre><b>In a Jupyter environment, please rerun this cell to show the HTML representation or trust the notebook. <br />On GitHub, the HTML representation is unable to render, please try loading this page with nbviewer.org.</b></div><div class=\"sk-container\" hidden><div class=\"sk-item\"><div class=\"sk-estimator sk-toggleable\"><input class=\"sk-toggleable__control sk-hidden--visually\" id=\"sk-estimator-id-2\" type=\"checkbox\" checked><label for=\"sk-estimator-id-2\" class=\"sk-toggleable__label sk-toggleable__label-arrow\">SVC</label><div class=\"sk-toggleable__content\"><pre>SVC(random_state=42)</pre></div></div></div></div></div>"
      ],
      "text/plain": [
       "SVC(random_state=42)"
      ]
     },
     "execution_count": 7,
     "metadata": {},
     "output_type": "execute_result"
    }
   ],
   "source": [
    "# Train the model on the full training set\n",
    "svm_model.fit(x_train, y_train)"
   ]
  },
  {
   "cell_type": "code",
   "execution_count": 8,
   "id": "f9d35e51",
   "metadata": {
    "execution": {
     "iopub.execute_input": "2024-12-22T02:58:50.750780Z",
     "iopub.status.busy": "2024-12-22T02:58:50.750416Z",
     "iopub.status.idle": "2024-12-22T03:03:07.068837Z",
     "shell.execute_reply": "2024-12-22T03:03:07.067776Z"
    },
    "papermill": {
     "duration": 256.324868,
     "end_time": "2024-12-22T03:03:07.070973",
     "exception": false,
     "start_time": "2024-12-22T02:58:50.746105",
     "status": "completed"
    },
    "tags": []
   },
   "outputs": [],
   "source": [
    "# Load the test dataset\n",
    "test_data = np.load('/kaggle/input/d/andyzaur/tia-2024/test.npz')\n",
    "x_test = test_data['x_test']\n",
    "\n",
    "# Normalize the test features\n",
    "x_test = scaler.transform(x_test)\n",
    "\n",
    "# Predict on the test set\n",
    "y_test_pred = svm_model.predict(x_test)"
   ]
  },
  {
   "cell_type": "code",
   "execution_count": 9,
   "id": "24425a58",
   "metadata": {
    "execution": {
     "iopub.execute_input": "2024-12-22T03:03:07.080226Z",
     "iopub.status.busy": "2024-12-22T03:03:07.079857Z",
     "iopub.status.idle": "2024-12-22T03:03:07.108662Z",
     "shell.execute_reply": "2024-12-22T03:03:07.107588Z"
    },
    "papermill": {
     "duration": 0.035663,
     "end_time": "2024-12-22T03:03:07.110514",
     "exception": false,
     "start_time": "2024-12-22T03:03:07.074851",
     "status": "completed"
    },
    "tags": []
   },
   "outputs": [],
   "source": [
    "# Create a submission file\n",
    "submission = pd.DataFrame({\n",
    "    'Id': np.arange(len(y_test_pred)),\n",
    "    'Label': y_test_pred\n",
    "})\n",
    "submission.to_csv('submission.csv', index=False)"
   ]
  }
 ],
 "metadata": {
  "kaggle": {
   "accelerator": "none",
   "dataSources": [
    {
     "databundleVersionId": 10201026,
     "sourceId": 88863,
     "sourceType": "competition"
    },
    {
     "datasetId": 6351068,
     "sourceId": 10265843,
     "sourceType": "datasetVersion"
    }
   ],
   "dockerImageVersionId": 30823,
   "isGpuEnabled": false,
   "isInternetEnabled": true,
   "language": "python",
   "sourceType": "notebook"
  },
  "kernelspec": {
   "display_name": "Python 3",
   "language": "python",
   "name": "python3"
  },
  "language_info": {
   "codemirror_mode": {
    "name": "ipython",
    "version": 3
   },
   "file_extension": ".py",
   "mimetype": "text/x-python",
   "name": "python",
   "nbconvert_exporter": "python",
   "pygments_lexer": "ipython3",
   "version": "3.10.12"
  },
  "papermill": {
   "default_parameters": {},
   "duration": 1082.757252,
   "end_time": "2024-12-22T03:03:07.835548",
   "environment_variables": {},
   "exception": null,
   "input_path": "__notebook__.ipynb",
   "output_path": "__notebook__.ipynb",
   "parameters": {},
   "start_time": "2024-12-22T02:45:05.078296",
   "version": "2.6.0"
  }
 },
 "nbformat": 4,
 "nbformat_minor": 5
}
